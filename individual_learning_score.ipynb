{
 "cells": [
  {
   "cell_type": "code",
   "execution_count": 4,
   "metadata": {},
   "outputs": [
    {
     "name": "stdout",
     "output_type": "stream",
     "text": [
      "Results saved to learning_ability_results.csv\n"
     ]
    }
   ],
   "source": [
    "import pandas as pd\n",
    "\n",
    "# read data\n",
    "during_led_path = 'd48_during_LED.xlsx'\n",
    "before_combined_path = 'd48_before_combined_results.csv'\n",
    "\n",
    "during_led_df = pd.read_excel(during_led_path)\n",
    "before_combined_df = pd.read_csv(before_combined_path)\n",
    "\n",
    "# define attribute\n",
    "attributes = ['dist', 'vel', 'acc', 'head_angle', 'y_up', 'y_mag', 'trajectory_angle', 'start_y_from_led']\n",
    "\n",
    "# prepare results DataFrame\n",
    "results = pd.DataFrame(columns=['name', 'day', 'uroa_control'] + attributes)\n",
    "\n",
    "for _, row in during_led_df.iterrows():\n",
    "    name, day, uroa_control = row['name'], row['day'], row['uroa_control']\n",
    "    learning_ability = {'name': name, 'day': day, 'uroa_control': uroa_control}\n",
    "\n",
    "\n",
    "    before_data = before_combined_df[(before_combined_df['name'] == name) & \n",
    "                                     (before_combined_df['day'] == day) & \n",
    "                                     (before_combined_df['uroa_control'] == uroa_control)]\n",
    "\n",
    "    if not before_data.empty:\n",
    "        for attr in attributes:\n",
    "            during_value = row[attr]\n",
    "            before_mean = before_data[attr + '_mean'].values[0]\n",
    "            before_std = before_data[attr + '_std'].values[0]\n",
    "\n",
    "     \n",
    "            if during_value > before_mean + before_std:\n",
    "                learning_ability[attr] = 1\n",
    "            else:\n",
    "                learning_ability[attr] = 0\n",
    "\n",
    "\n",
    "        learning_ability['total_learning'] = sum(learning_ability[attr] for attr in attributes)\n",
    "\n",
    "\n",
    "        results = results.append(learning_ability, ignore_index=True)\n",
    "\n",
    "\n",
    "output_file_path = 'learning_ability_results.csv'\n",
    "results.to_csv(output_file_path, index=False)\n",
    "\n",
    "print(f\"Results saved to {output_file_path}\")\n"
   ]
  },
  {
   "cell_type": "markdown",
   "metadata": {},
   "source": []
  }
 ],
 "metadata": {
  "kernelspec": {
   "display_name": "base",
   "language": "python",
   "name": "python3"
  },
  "language_info": {
   "codemirror_mode": {
    "name": "ipython",
    "version": 3
   },
   "file_extension": ".py",
   "mimetype": "text/x-python",
   "name": "python",
   "nbconvert_exporter": "python",
   "pygments_lexer": "ipython3",
   "version": "3.8.8"
  }
 },
 "nbformat": 4,
 "nbformat_minor": 2
}
