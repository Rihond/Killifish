{
 "cells": [
  {
   "cell_type": "code",
   "execution_count": 1,
   "metadata": {},
   "outputs": [
    {
     "name": "stdout",
     "output_type": "stream",
     "text": [
      "Results saved to ./combined_results.csv\n"
     ]
    }
   ],
   "source": [
    "import pandas as pd\n",
    "import os\n",
    "\n",
    "folder_path = './'  \n",
    "file_pattern = 'averaged_before_led_df_{}.csv'\n",
    "\n",
    "attributes = ['dist', 'vel', 'acc', 'head_angle', 'dist_surface', 'y_up', 'y_mag', 'trajectory_angle', 'start_y_from_led', 'end_trajectory_angle']\n",
    "\n",
    "dataframes = []\n",
    "for i in range(10):\n",
    "    file_path = os.path.join(folder_path, file_pattern.format(i))\n",
    "    df = pd.read_csv(file_path)\n",
    "    dataframes.append(df)\n",
    "\n",
    "combined_df = pd.concat(dataframes)\n",
    "\n",
    "\n",
    "grouped = combined_df.groupby(['name', 'uroa_control', 'day'])\n",
    "mean_df = grouped[attributes].mean()\n",
    "std_df = grouped[attributes].std()\n",
    "\n",
    "result_df = mean_df.join(std_df, lsuffix='_mean', rsuffix='_std')\n",
    "\n",
    "output_file_path = os.path.join(folder_path, 'combined_results.csv')\n",
    "result_df.to_csv(output_file_path, index=True)\n",
    "\n",
    "print(f\"Results saved to {output_file_path}\")\n",
    "\n"
   ]
  },
  {
   "cell_type": "code",
   "execution_count": null,
   "metadata": {},
   "outputs": [],
   "source": []
  }
 ],
 "metadata": {
  "kernelspec": {
   "display_name": "base",
   "language": "python",
   "name": "python3"
  },
  "language_info": {
   "codemirror_mode": {
    "name": "ipython",
    "version": 3
   },
   "file_extension": ".py",
   "mimetype": "text/x-python",
   "name": "python",
   "nbconvert_exporter": "python",
   "pygments_lexer": "ipython3",
   "version": "3.8.8"
  }
 },
 "nbformat": 4,
 "nbformat_minor": 2
}
